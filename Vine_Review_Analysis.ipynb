{
 "cells": [
  {
   "cell_type": "code",
   "execution_count": null,
   "id": "88751105",
   "metadata": {},
   "outputs": [],
   "source": [
    "import os\n",
    "# Find the latest version of spark 3.0 from http://www.apache.org/dist/spark/ and enter as the spark version\n",
    "# For example:\n",
    "# spark_version = 'spark-3.0.3'\n",
    "spark_version = 'spark-3.0.3'\n",
    "os.environ['SPARK_VERSION']=spark_version\n",
    "\n",
    "# Install Spark and Java\n",
    "!apt-get update\n",
    "!apt-get install openjdk-11-jdk-headless -qq > /dev/null\n",
    "!wget -q http://www.apache.org/dist/spark/$SPARK_VERSION/$SPARK_VERSION-bin-hadoop2.7.tgz\n",
    "!tar xf $SPARK_VERSION-bin-hadoop2.7.tgz\n",
    "!pip install -q findspark\n",
    "\n",
    "# Set Environment Variables\n",
    "import os\n",
    "os.environ[\"JAVA_HOME\"] = \"/usr/lib/jvm/java-11-openjdk-amd64\"\n",
    "os.environ[\"SPARK_HOME\"] = f\"/content/{spark_version}-bin-hadoop2.7\"\n",
    "\n",
    "# Start a SparkSession\n",
    "import findspark\n",
    "findspark.init()"
   ]
  },
  {
   "cell_type": "code",
   "execution_count": null,
   "id": "2d371737",
   "metadata": {},
   "outputs": [],
   "source": [
    "from pyspark.sql import SparkSession\n",
    "spark = SparkSession.builder.appName(\"M16-Amazon-Challenge\").config(\"spark.driver.extraClassPath\",\"/content/postgresql-42.2.16.jar\").getOrCreate()"
   ]
  },
  {
   "cell_type": "code",
   "execution_count": null,
   "id": "8c65a423",
   "metadata": {},
   "outputs": [],
   "source": [
    "from pyspark import SparkFiles\n",
    "url = \"https://herasyed-db19.s3.amazonaws.com/amazon_reviews_us_Wireless_v1_00.tsv.gz\"\n",
    "spark.sparkContext.addFile(url)\n",
    "df = spark.read.option(\"encoding\", \"UTF-8\").csv(SparkFiles.get(\"amazon_reviews_us_Wireless_v1_00.tsv.gz\"), sep=\"\\t\", header=True, inferSchema=True)\n",
    "df.show()"
   ]
  },
  {
   "cell_type": "code",
   "execution_count": null,
   "id": "d5b3aca3",
   "metadata": {},
   "outputs": [],
   "source": [
    "# filter DF for total_votes above or equal to 20\n",
    "df1 = df.filter(df.total_votes >= 20)\n",
    "df1.show()"
   ]
  },
  {
   "cell_type": "code",
   "execution_count": null,
   "id": "76973310",
   "metadata": {},
   "outputs": [],
   "source": [
    "# Filter DF for helpful_votes ratio above or equal to 50%\n",
    "df2 = df1.filter((df1.helpful_votes / df1.total_votes) >= 0.5)\n",
    "df2.show()"
   ]
  },
  {
   "cell_type": "code",
   "execution_count": null,
   "id": "0f56819f",
   "metadata": {},
   "outputs": [],
   "source": [
    "# Create paid vine DF\n",
    "paid_df = df2.filter(df2.vine == 'Y')\n",
    "paid_df.show()"
   ]
  },
  {
   "cell_type": "code",
   "execution_count": null,
   "id": "caf07bbf",
   "metadata": {},
   "outputs": [],
   "source": [
    "# Create unpaid vine DF\n",
    "unpaid_df = df2.filter(df2.vine == 'N')\n",
    "unpaid_df.show()"
   ]
  },
  {
   "cell_type": "code",
   "execution_count": null,
   "id": "f9939bed",
   "metadata": {},
   "outputs": [],
   "source": [
    "# Paid total number of reviews\n",
    "total_paid_reviews = paid_df.count()\n",
    "total_paid_reviews"
   ]
  },
  {
   "cell_type": "code",
   "execution_count": null,
   "id": "5693de10",
   "metadata": {},
   "outputs": [],
   "source": [
    "# Paid 5 star reviews\n",
    "paid_five_star_reviews = paid_df.filter(paid_df.star_rating == 5).count()\n",
    "paid_five_star_reviews"
   ]
  },
  {
   "cell_type": "code",
   "execution_count": null,
   "id": "195c8feb",
   "metadata": {},
   "outputs": [],
   "source": [
    "# Paid 5 star reviews percentage\n",
    "paid_five_star_per = (paid_five_star_reviews / total_paid_reviews) * 100\n",
    "paid_five_star_per"
   ]
  },
  {
   "cell_type": "code",
   "execution_count": null,
   "id": "44a197dd",
   "metadata": {},
   "outputs": [],
   "source": [
    "# Unpaid total number of reviews\n",
    "total_unpaid_reviews = unpaid_df.count()\n",
    "total_unpaid_reviews"
   ]
  },
  {
   "cell_type": "code",
   "execution_count": null,
   "id": "71d4ac19",
   "metadata": {},
   "outputs": [],
   "source": [
    "# Unpaid 5 star reviews\n",
    "unpaid_five_star_reviews = unpaid_df.filter(unpaid_df.star_rating == 5).count()\n",
    "unpaid_five_star_reviews"
   ]
  },
  {
   "cell_type": "code",
   "execution_count": null,
   "id": "2326a19e",
   "metadata": {},
   "outputs": [],
   "source": [
    "# Unpaid 5 star reviews percentage\n",
    "unpaid_five_star_per = (unpaid_five_star_reviews / total_unpaid_reviews) * 100\n",
    "unpaid_five_star_per"
   ]
  },
  {
   "cell_type": "code",
   "execution_count": null,
   "id": "b4386246",
   "metadata": {},
   "outputs": [],
   "source": []
  },
  {
   "cell_type": "code",
   "execution_count": null,
   "id": "44b76194",
   "metadata": {},
   "outputs": [],
   "source": []
  }
 ],
 "metadata": {
  "kernelspec": {
   "display_name": "PythonData",
   "language": "python",
   "name": "pythondata"
  },
  "language_info": {
   "codemirror_mode": {
    "name": "ipython",
    "version": 3
   },
   "file_extension": ".py",
   "mimetype": "text/x-python",
   "name": "python",
   "nbconvert_exporter": "python",
   "pygments_lexer": "ipython3",
   "version": "3.7.10"
  }
 },
 "nbformat": 4,
 "nbformat_minor": 5
}
